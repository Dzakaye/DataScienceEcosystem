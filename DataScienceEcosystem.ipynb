{
 "cells": [
  {
   "cell_type": "markdown",
   "id": "6ebf48b9-ec95-4a49-87c4-fafa659161f3",
   "metadata": {},
   "source": [
    "# Data Science Tools and Ecosystem\n"
   ]
  },
  {
   "cell_type": "markdown",
   "id": "d7bc9f29-406a-423a-8fb5-64988c50cbc3",
   "metadata": {},
   "source": [
    "In this notebook, Data Science Tools and Ecosystem are summarized"
   ]
  },
  {
   "cell_type": "markdown",
   "id": "eadcb402-6337-4777-9fcd-78764f4996ed",
   "metadata": {},
   "source": [
    "__Objectives :__\n",
    "-  Create a Jupyter Notebook with markdown and code cells.\n",
    "- Share your Jupyter Notebook publicly on GitHub.\n",
    "-  Evaluate notebooks submitted by your peers using the provided rubric."
   ]
  },
  {
   "cell_type": "markdown",
   "id": "44a12426-b759-4f8a-962b-63131b873676",
   "metadata": {},
   "source": [
    "Some of the popular languages that Data Scientists use are:\n",
    "1. Python\n",
    "2. R\n",
    "3. SQL\n",
    "4. Julia"
   ]
  },
  {
   "cell_type": "markdown",
   "id": "06024e75-85da-48f2-8d40-d687cf5a4831",
   "metadata": {},
   "source": [
    "Some of the commonly used libraries used by Data Scientists include:\n",
    "1. NumPy\n",
    "2. Pandas\n",
    "3. Matplotlib\n",
    "4. ggplot"
   ]
  },
  {
   "cell_type": "markdown",
   "id": "d861610c-4654-4b39-b706-7d97c51af076",
   "metadata": {},
   "source": [
    "| Data sciences tools    |\n",
    "|:----------------------|\n",
    "|Jupyter Notebook        |\n",
    "|RStudio                 |\n",
    "|Visual Studio           |\n"
   ]
  },
  {
   "cell_type": "markdown",
   "id": "2058e73e-0dbc-4186-afb5-ad8897fa7ca1",
   "metadata": {},
   "source": [
    "### Below are a few examples of evaluating arithmetic expressions in Python"
   ]
  },
  {
   "cell_type": "markdown",
   "id": "d7b29295-e1a0-4c3c-b55f-909ce0998aee",
   "metadata": {},
   "source": [
    "This a simple arithmetic expression to mutiply then add integers"
   ]
  },
  {
   "cell_type": "code",
   "execution_count": 16,
   "id": "bc697a0a-bc46-436d-be25-ee7fda72f0d5",
   "metadata": {},
   "outputs": [
    {
     "data": {
      "text/plain": [
       "17"
      ]
     },
     "execution_count": 16,
     "metadata": {},
     "output_type": "execute_result"
    }
   ],
   "source": [
    "(3*4)+5"
   ]
  },
  {
   "cell_type": "markdown",
   "id": "716d2333-5463-4b61-866e-08c10c41710d",
   "metadata": {},
   "source": [
    "This will convert 200 minutes to hours by diving by 60 :"
   ]
  },
  {
   "cell_type": "code",
   "execution_count": 19,
   "id": "b4b5ce1c-cbb6-47bd-b6b3-7002e6c8775b",
   "metadata": {},
   "outputs": [
    {
     "data": {
      "text/plain": [
       "3.3333333333333335"
      ]
     },
     "execution_count": 19,
     "metadata": {},
     "output_type": "execute_result"
    }
   ],
   "source": [
    "200/60"
   ]
  },
  {
   "cell_type": "markdown",
   "id": "2e1e874e-c8ef-438a-be2e-45d5ab4e196f",
   "metadata": {},
   "source": [
    "## Author\n",
    "Zakaye DJIBO"
   ]
  },
  {
   "cell_type": "code",
   "execution_count": null,
   "id": "19fe7d18-b5c8-4082-946b-497d6c77bc72",
   "metadata": {},
   "outputs": [],
   "source": []
  }
 ],
 "metadata": {
  "kernelspec": {
   "display_name": "Python 3 (ipykernel)",
   "language": "python",
   "name": "python3"
  },
  "language_info": {
   "codemirror_mode": {
    "name": "ipython",
    "version": 3
   },
   "file_extension": ".py",
   "mimetype": "text/x-python",
   "name": "python",
   "nbconvert_exporter": "python",
   "pygments_lexer": "ipython3",
   "version": "3.12.4"
  }
 },
 "nbformat": 4,
 "nbformat_minor": 5
}
